{
 "cells": [
  {
   "cell_type": "markdown",
   "id": "36c14895-d497-455b-bf75-032aa88628d4",
   "metadata": {},
   "source": [
    "# Ecommerce Data Exploration"
   ]
  },
  {
   "cell_type": "code",
   "execution_count": 15,
   "id": "5a6d4fb2-236a-487c-b228-d74c2a69f9bb",
   "metadata": {},
   "outputs": [],
   "source": [
    "import pandas as pd\n",
    "import numpy as np\n",
    "import duckdb"
   ]
  },
  {
   "cell_type": "code",
   "execution_count": 16,
   "id": "49f75037-0c45-4560-a075-13fdef7e19c1",
   "metadata": {},
   "outputs": [],
   "source": [
    "def run_query(query: str):\n",
    "    try:\n",
    "        return duckdb.sql(query)\n",
    "    except Exception as e:\n",
    "        raise e"
   ]
  },
  {
   "cell_type": "code",
   "execution_count": 17,
   "id": "c9c4a6fe-0bc0-4dce-aeea-698ab318a20a",
   "metadata": {},
   "outputs": [],
   "source": [
    "# Load Data\n",
    "base_path = \"/home/allie/Repos/tests/data-explore/raw_data\"\n",
    "\n",
    "distribution_data = duckdb.read_csv(f\"{base_path}/distribution_centers.csv\")\n",
    "inventory_items_data = duckdb.read_csv(f\"{base_path}/inventory_items.csv\")  \n",
    "orders_data = duckdb.read_csv(f\"{base_path}/orders.csv\")  \n",
    "users_data = duckdb.read_csv(f\"{base_path}/users.csv\")  \n",
    "events_data = duckdb.read_csv(f\"{base_path}/events.csv\")\n",
    "order_items_data = duckdb.read_csv(f\"{base_path}/order_items.csv\")\n",
    "products_data = duckdb.read_csv(f\"{base_path}/products.csv\")  "
   ]
  },
  {
   "cell_type": "markdown",
   "id": "e50fc985-76c6-4721-9d57-83b6e93d0216",
   "metadata": {},
   "source": [
    "## Tables Schemas"
   ]
  },
  {
   "cell_type": "code",
   "execution_count": 18,
   "id": "a726e5f8-e986-44bd-a6ac-c7135a93cebc",
   "metadata": {},
   "outputs": [
    {
     "data": {
      "text/plain": [
       "┌─────────────┬─────────────┬─────────┬─────────┬─────────┬─────────┐\n",
       "│ column_name │ column_type │  null   │   key   │ default │  extra  │\n",
       "│   varchar   │   varchar   │ varchar │ varchar │ varchar │ varchar │\n",
       "├─────────────┼─────────────┼─────────┼─────────┼─────────┼─────────┤\n",
       "│ id          │ BIGINT      │ YES     │ NULL    │ NULL    │ NULL    │\n",
       "│ name        │ VARCHAR     │ YES     │ NULL    │ NULL    │ NULL    │\n",
       "│ latitude    │ DOUBLE      │ YES     │ NULL    │ NULL    │ NULL    │\n",
       "│ longitude   │ DOUBLE      │ YES     │ NULL    │ NULL    │ NULL    │\n",
       "└─────────────┴─────────────┴─────────┴─────────┴─────────┴─────────┘"
      ]
     },
     "execution_count": 18,
     "metadata": {},
     "output_type": "execute_result"
    }
   ],
   "source": [
    "run_query(\"DESCRIBE distribution_data\")"
   ]
  },
  {
   "cell_type": "code",
   "execution_count": 19,
   "id": "8cd0b3b1-9c31-4e5d-8780-7428a8166c32",
   "metadata": {},
   "outputs": [
    {
     "data": {
      "text/plain": [
       "┌────────────────────────────────┬─────────────┬─────────┬─────────┬─────────┬─────────┐\n",
       "│          column_name           │ column_type │  null   │   key   │ default │  extra  │\n",
       "│            varchar             │   varchar   │ varchar │ varchar │ varchar │ varchar │\n",
       "├────────────────────────────────┼─────────────┼─────────┼─────────┼─────────┼─────────┤\n",
       "│ id                             │ BIGINT      │ YES     │ NULL    │ NULL    │ NULL    │\n",
       "│ product_id                     │ BIGINT      │ YES     │ NULL    │ NULL    │ NULL    │\n",
       "│ created_at                     │ TIMESTAMP   │ YES     │ NULL    │ NULL    │ NULL    │\n",
       "│ sold_at                        │ TIMESTAMP   │ YES     │ NULL    │ NULL    │ NULL    │\n",
       "│ cost                           │ DOUBLE      │ YES     │ NULL    │ NULL    │ NULL    │\n",
       "│ product_category               │ VARCHAR     │ YES     │ NULL    │ NULL    │ NULL    │\n",
       "│ product_name                   │ VARCHAR     │ YES     │ NULL    │ NULL    │ NULL    │\n",
       "│ product_brand                  │ VARCHAR     │ YES     │ NULL    │ NULL    │ NULL    │\n",
       "│ product_retail_price           │ DOUBLE      │ YES     │ NULL    │ NULL    │ NULL    │\n",
       "│ product_department             │ VARCHAR     │ YES     │ NULL    │ NULL    │ NULL    │\n",
       "│ product_sku                    │ VARCHAR     │ YES     │ NULL    │ NULL    │ NULL    │\n",
       "│ product_distribution_center_id │ BIGINT      │ YES     │ NULL    │ NULL    │ NULL    │\n",
       "├────────────────────────────────┴─────────────┴─────────┴─────────┴─────────┴─────────┤\n",
       "│ 12 rows                                                                    6 columns │\n",
       "└──────────────────────────────────────────────────────────────────────────────────────┘"
      ]
     },
     "execution_count": 19,
     "metadata": {},
     "output_type": "execute_result"
    }
   ],
   "source": [
    "run_query(\"DESCRIBE inventory_items_data\")"
   ]
  },
  {
   "cell_type": "code",
   "execution_count": 20,
   "id": "1998d7a7-db1d-4aa7-a1d4-3da9abda682e",
   "metadata": {},
   "outputs": [
    {
     "data": {
      "text/plain": [
       "┌──────────────┬─────────────┬─────────┬─────────┬─────────┬─────────┐\n",
       "│ column_name  │ column_type │  null   │   key   │ default │  extra  │\n",
       "│   varchar    │   varchar   │ varchar │ varchar │ varchar │ varchar │\n",
       "├──────────────┼─────────────┼─────────┼─────────┼─────────┼─────────┤\n",
       "│ order_id     │ BIGINT      │ YES     │ NULL    │ NULL    │ NULL    │\n",
       "│ user_id      │ BIGINT      │ YES     │ NULL    │ NULL    │ NULL    │\n",
       "│ status       │ VARCHAR     │ YES     │ NULL    │ NULL    │ NULL    │\n",
       "│ gender       │ BOOLEAN     │ YES     │ NULL    │ NULL    │ NULL    │\n",
       "│ created_at   │ TIMESTAMP   │ YES     │ NULL    │ NULL    │ NULL    │\n",
       "│ returned_at  │ VARCHAR     │ YES     │ NULL    │ NULL    │ NULL    │\n",
       "│ shipped_at   │ TIMESTAMP   │ YES     │ NULL    │ NULL    │ NULL    │\n",
       "│ delivered_at │ TIMESTAMP   │ YES     │ NULL    │ NULL    │ NULL    │\n",
       "│ num_of_item  │ BIGINT      │ YES     │ NULL    │ NULL    │ NULL    │\n",
       "└──────────────┴─────────────┴─────────┴─────────┴─────────┴─────────┘"
      ]
     },
     "execution_count": 20,
     "metadata": {},
     "output_type": "execute_result"
    }
   ],
   "source": [
    "run_query(\"DESCRIBE orders_data\")"
   ]
  },
  {
   "cell_type": "code",
   "execution_count": 21,
   "id": "e71f31f0-6f7a-4c1c-85fd-bdbfc6f41026",
   "metadata": {},
   "outputs": [
    {
     "data": {
      "text/plain": [
       "┌────────────────┬─────────────┬─────────┬─────────┬─────────┬─────────┐\n",
       "│  column_name   │ column_type │  null   │   key   │ default │  extra  │\n",
       "│    varchar     │   varchar   │ varchar │ varchar │ varchar │ varchar │\n",
       "├────────────────┼─────────────┼─────────┼─────────┼─────────┼─────────┤\n",
       "│ id             │ BIGINT      │ YES     │ NULL    │ NULL    │ NULL    │\n",
       "│ first_name     │ VARCHAR     │ YES     │ NULL    │ NULL    │ NULL    │\n",
       "│ last_name      │ VARCHAR     │ YES     │ NULL    │ NULL    │ NULL    │\n",
       "│ email          │ VARCHAR     │ YES     │ NULL    │ NULL    │ NULL    │\n",
       "│ age            │ BIGINT      │ YES     │ NULL    │ NULL    │ NULL    │\n",
       "│ gender         │ VARCHAR     │ YES     │ NULL    │ NULL    │ NULL    │\n",
       "│ state          │ VARCHAR     │ YES     │ NULL    │ NULL    │ NULL    │\n",
       "│ street_address │ VARCHAR     │ YES     │ NULL    │ NULL    │ NULL    │\n",
       "│ postal_code    │ VARCHAR     │ YES     │ NULL    │ NULL    │ NULL    │\n",
       "│ city           │ VARCHAR     │ YES     │ NULL    │ NULL    │ NULL    │\n",
       "│ country        │ VARCHAR     │ YES     │ NULL    │ NULL    │ NULL    │\n",
       "│ latitude       │ DOUBLE      │ YES     │ NULL    │ NULL    │ NULL    │\n",
       "│ longitude      │ DOUBLE      │ YES     │ NULL    │ NULL    │ NULL    │\n",
       "│ traffic_source │ VARCHAR     │ YES     │ NULL    │ NULL    │ NULL    │\n",
       "│ created_at     │ TIMESTAMP   │ YES     │ NULL    │ NULL    │ NULL    │\n",
       "├────────────────┴─────────────┴─────────┴─────────┴─────────┴─────────┤\n",
       "│ 15 rows                                                    6 columns │\n",
       "└──────────────────────────────────────────────────────────────────────┘"
      ]
     },
     "execution_count": 21,
     "metadata": {},
     "output_type": "execute_result"
    }
   ],
   "source": [
    "run_query(\"DESCRIBE users_data\")"
   ]
  },
  {
   "cell_type": "code",
   "execution_count": 22,
   "id": "75f5af1b-9765-40b7-a06c-d499077d14d7",
   "metadata": {},
   "outputs": [
    {
     "data": {
      "text/plain": [
       "┌───────────────────┬─────────────┬─────────┬─────────┬─────────┬─────────┐\n",
       "│    column_name    │ column_type │  null   │   key   │ default │  extra  │\n",
       "│      varchar      │   varchar   │ varchar │ varchar │ varchar │ varchar │\n",
       "├───────────────────┼─────────────┼─────────┼─────────┼─────────┼─────────┤\n",
       "│ id                │ BIGINT      │ YES     │ NULL    │ NULL    │ NULL    │\n",
       "│ order_id          │ BIGINT      │ YES     │ NULL    │ NULL    │ NULL    │\n",
       "│ user_id           │ BIGINT      │ YES     │ NULL    │ NULL    │ NULL    │\n",
       "│ product_id        │ BIGINT      │ YES     │ NULL    │ NULL    │ NULL    │\n",
       "│ inventory_item_id │ BIGINT      │ YES     │ NULL    │ NULL    │ NULL    │\n",
       "│ status            │ VARCHAR     │ YES     │ NULL    │ NULL    │ NULL    │\n",
       "│ created_at        │ TIMESTAMP   │ YES     │ NULL    │ NULL    │ NULL    │\n",
       "│ shipped_at        │ TIMESTAMP   │ YES     │ NULL    │ NULL    │ NULL    │\n",
       "│ delivered_at      │ TIMESTAMP   │ YES     │ NULL    │ NULL    │ NULL    │\n",
       "│ returned_at       │ TIMESTAMP   │ YES     │ NULL    │ NULL    │ NULL    │\n",
       "│ sale_price        │ DOUBLE      │ YES     │ NULL    │ NULL    │ NULL    │\n",
       "├───────────────────┴─────────────┴─────────┴─────────┴─────────┴─────────┤\n",
       "│ 11 rows                                                       6 columns │\n",
       "└─────────────────────────────────────────────────────────────────────────┘"
      ]
     },
     "execution_count": 22,
     "metadata": {},
     "output_type": "execute_result"
    }
   ],
   "source": [
    "run_query(\"DESCRIBE order_items_data\")"
   ]
  },
  {
   "cell_type": "code",
   "execution_count": 23,
   "id": "8e286af2-7478-4243-9176-4acea51f5873",
   "metadata": {},
   "outputs": [
    {
     "data": {
      "text/plain": [
       "┌─────────────────┬─────────────┬─────────┬─────────┬─────────┬─────────┐\n",
       "│   column_name   │ column_type │  null   │   key   │ default │  extra  │\n",
       "│     varchar     │   varchar   │ varchar │ varchar │ varchar │ varchar │\n",
       "├─────────────────┼─────────────┼─────────┼─────────┼─────────┼─────────┤\n",
       "│ id              │ BIGINT      │ YES     │ NULL    │ NULL    │ NULL    │\n",
       "│ user_id         │ DOUBLE      │ YES     │ NULL    │ NULL    │ NULL    │\n",
       "│ sequence_number │ BIGINT      │ YES     │ NULL    │ NULL    │ NULL    │\n",
       "│ session_id      │ VARCHAR     │ YES     │ NULL    │ NULL    │ NULL    │\n",
       "│ created_at      │ TIMESTAMP   │ YES     │ NULL    │ NULL    │ NULL    │\n",
       "│ ip_address      │ VARCHAR     │ YES     │ NULL    │ NULL    │ NULL    │\n",
       "│ city            │ VARCHAR     │ YES     │ NULL    │ NULL    │ NULL    │\n",
       "│ state           │ VARCHAR     │ YES     │ NULL    │ NULL    │ NULL    │\n",
       "│ postal_code     │ VARCHAR     │ YES     │ NULL    │ NULL    │ NULL    │\n",
       "│ browser         │ VARCHAR     │ YES     │ NULL    │ NULL    │ NULL    │\n",
       "│ traffic_source  │ VARCHAR     │ YES     │ NULL    │ NULL    │ NULL    │\n",
       "│ uri             │ VARCHAR     │ YES     │ NULL    │ NULL    │ NULL    │\n",
       "│ event_type      │ VARCHAR     │ YES     │ NULL    │ NULL    │ NULL    │\n",
       "├─────────────────┴─────────────┴─────────┴─────────┴─────────┴─────────┤\n",
       "│ 13 rows                                                     6 columns │\n",
       "└───────────────────────────────────────────────────────────────────────┘"
      ]
     },
     "execution_count": 23,
     "metadata": {},
     "output_type": "execute_result"
    }
   ],
   "source": [
    "run_query(\"DESCRIBE events_data\")"
   ]
  },
  {
   "cell_type": "code",
   "execution_count": 24,
   "id": "d50f9d4e-4abe-4387-9151-7da880130a4c",
   "metadata": {},
   "outputs": [
    {
     "data": {
      "text/plain": [
       "┌────────────────────────┬─────────────┬─────────┬─────────┬─────────┬─────────┐\n",
       "│      column_name       │ column_type │  null   │   key   │ default │  extra  │\n",
       "│        varchar         │   varchar   │ varchar │ varchar │ varchar │ varchar │\n",
       "├────────────────────────┼─────────────┼─────────┼─────────┼─────────┼─────────┤\n",
       "│ id                     │ BIGINT      │ YES     │ NULL    │ NULL    │ NULL    │\n",
       "│ cost                   │ DOUBLE      │ YES     │ NULL    │ NULL    │ NULL    │\n",
       "│ category               │ VARCHAR     │ YES     │ NULL    │ NULL    │ NULL    │\n",
       "│ name                   │ VARCHAR     │ YES     │ NULL    │ NULL    │ NULL    │\n",
       "│ brand                  │ VARCHAR     │ YES     │ NULL    │ NULL    │ NULL    │\n",
       "│ retail_price           │ DOUBLE      │ YES     │ NULL    │ NULL    │ NULL    │\n",
       "│ department             │ VARCHAR     │ YES     │ NULL    │ NULL    │ NULL    │\n",
       "│ sku                    │ VARCHAR     │ YES     │ NULL    │ NULL    │ NULL    │\n",
       "│ distribution_center_id │ BIGINT      │ YES     │ NULL    │ NULL    │ NULL    │\n",
       "└────────────────────────┴─────────────┴─────────┴─────────┴─────────┴─────────┘"
      ]
     },
     "execution_count": 24,
     "metadata": {},
     "output_type": "execute_result"
    }
   ],
   "source": [
    "run_query(\"DESCRIBE products_data\")"
   ]
  },
  {
   "cell_type": "markdown",
   "id": "435f0794-5120-46e1-b022-f0687a7cfc3e",
   "metadata": {},
   "source": [
    "## Distribution Centers"
   ]
  },
  {
   "cell_type": "code",
   "execution_count": 25,
   "id": "7cb0d843-38f4-46ba-9d03-e6651e69c479",
   "metadata": {},
   "outputs": [
    {
     "data": {
      "text/plain": [
       "┌──────────────┐\n",
       "│ count_star() │\n",
       "│    int64     │\n",
       "├──────────────┤\n",
       "│           10 │\n",
       "└──────────────┘"
      ]
     },
     "execution_count": 25,
     "metadata": {},
     "output_type": "execute_result"
    }
   ],
   "source": [
    "# How many rows does the distribution_center data have?\n",
    "run_query(\"SELECT COUNT(*) FROM distribution_data\")"
   ]
  },
  {
   "cell_type": "code",
   "execution_count": 26,
   "id": "cf6e54bb-7952-4811-9792-565e37685f2a",
   "metadata": {},
   "outputs": [
    {
     "data": {
      "text/plain": [
       "┌───────┬─────────────────────────────────────────────┬──────────┬───────────┐\n",
       "│  id   │                    name                     │ latitude │ longitude │\n",
       "│ int64 │                   varchar                   │  double  │  double   │\n",
       "├───────┼─────────────────────────────────────────────┼──────────┼───────────┤\n",
       "│     1 │ Memphis TN                                  │  35.1174 │  -89.9711 │\n",
       "│     2 │ Chicago IL                                  │  41.8369 │  -87.6847 │\n",
       "│     3 │ Houston TX                                  │  29.7604 │  -95.3698 │\n",
       "│     4 │ Los Angeles CA                              │    34.05 │   -118.25 │\n",
       "│     5 │ New Orleans LA                              │    29.95 │  -90.0667 │\n",
       "│     6 │ Port Authority of New York/New Jersey NY/NJ │   40.634 │  -73.7834 │\n",
       "│     7 │ Philadelphia PA                             │    39.95 │  -75.1667 │\n",
       "│     8 │ Mobile AL                                   │  30.6944 │  -88.0431 │\n",
       "│     9 │ Charleston SC                               │  32.7833 │  -79.9333 │\n",
       "│    10 │ Savannah GA                                 │  32.0167 │  -81.1167 │\n",
       "├───────┴─────────────────────────────────────────────┴──────────┴───────────┤\n",
       "│ 10 rows                                                          4 columns │\n",
       "└────────────────────────────────────────────────────────────────────────────┘"
      ]
     },
     "execution_count": 26,
     "metadata": {},
     "output_type": "execute_result"
    }
   ],
   "source": [
    "run_query(\"SELECT * FROM distribution_data\")"
   ]
  },
  {
   "cell_type": "markdown",
   "id": "dbf2d81d-8acc-4e96-af57-b07e8cb0c136",
   "metadata": {},
   "source": [
    "## Inventory Items"
   ]
  },
  {
   "cell_type": "code",
   "execution_count": 27,
   "id": "e6775f99-4b7c-4593-96c3-8e958994db67",
   "metadata": {},
   "outputs": [
    {
     "data": {
      "text/plain": [
       "┌──────────────┐\n",
       "│ count_star() │\n",
       "│    int64     │\n",
       "├──────────────┤\n",
       "│       490705 │\n",
       "└──────────────┘"
      ]
     },
     "execution_count": 27,
     "metadata": {},
     "output_type": "execute_result"
    }
   ],
   "source": [
    "# How many rows does the inventory_items table have?\n",
    "run_query(\"SELECT COUNT(*) FROM inventory_items_data\")"
   ]
  },
  {
   "cell_type": "code",
   "execution_count": 28,
   "id": "eb123102-b60c-46ed-a15f-f45c305b8d84",
   "metadata": {},
   "outputs": [
    {
     "data": {
      "text/plain": [
       "┌───────┬────────────┬─────────────────────┬─────────────────────┬───────────────────┬──────────────────┬────────────────────────┬────────────────────┬──────────────────────┬────────────────────┬──────────────────────────────────┬────────────────────────────────┐\n",
       "│  id   │ product_id │     created_at      │       sold_at       │       cost        │ product_category │      product_name      │   product_brand    │ product_retail_price │ product_department │           product_sku            │ product_distribution_center_id │\n",
       "│ int64 │   int64    │      timestamp      │      timestamp      │      double       │     varchar      │        varchar         │      varchar       │        double        │      varchar       │             varchar              │             int64              │\n",
       "├───────┼────────────┼─────────────────────┼─────────────────────┼───────────────────┼──────────────────┼────────────────────────┼────────────────────┼──────────────────────┼────────────────────┼──────────────────────────────────┼────────────────────────────────┤\n",
       "│ 67971 │      13844 │ 2022-07-02 07:09:20 │ 2022-07-24 06:33:20 │ 2.768039897618853 │ Accessories      │ (ONE) 1 Satin Headband │ Funny Girl Designs │    6.989999771118164 │ Women              │ 2A3E953A5E3D81E67945BCE5519F84C8 │                              7 │\n",
       "│ 67972 │      13844 │ 2023-12-20 03:28:00 │ NULL                │ 2.768039897618853 │ Accessories      │ (ONE) 1 Satin Headband │ Funny Girl Designs │    6.989999771118164 │ Women              │ 2A3E953A5E3D81E67945BCE5519F84C8 │                              7 │\n",
       "│ 67973 │      13844 │ 2023-06-04 02:53:00 │ NULL                │ 2.768039897618853 │ Accessories      │ (ONE) 1 Satin Headband │ Funny Girl Designs │    6.989999771118164 │ Women              │ 2A3E953A5E3D81E67945BCE5519F84C8 │                              7 │\n",
       "│ 72863 │      13844 │ 2021-10-16 22:58:52 │ 2021-11-22 02:19:52 │ 2.768039897618853 │ Accessories      │ (ONE) 1 Satin Headband │ Funny Girl Designs │    6.989999771118164 │ Women              │ 2A3E953A5E3D81E67945BCE5519F84C8 │                              7 │\n",
       "│ 72864 │      13844 │ 2021-08-07 16:33:00 │ NULL                │ 2.768039897618853 │ Accessories      │ (ONE) 1 Satin Headband │ Funny Girl Designs │    6.989999771118164 │ Women              │ 2A3E953A5E3D81E67945BCE5519F84C8 │                              7 │\n",
       "└───────┴────────────┴─────────────────────┴─────────────────────┴───────────────────┴──────────────────┴────────────────────────┴────────────────────┴──────────────────────┴────────────────────┴──────────────────────────────────┴────────────────────────────────┘"
      ]
     },
     "execution_count": 28,
     "metadata": {},
     "output_type": "execute_result"
    }
   ],
   "source": [
    "run_query(\"SELECT * FROM inventory_items_data LIMIT 5\")"
   ]
  },
  {
   "cell_type": "markdown",
   "id": "dbb8580d-7d19-4790-b8dc-bbff4d8a6c9c",
   "metadata": {},
   "source": [
    "## Orders"
   ]
  },
  {
   "cell_type": "code",
   "execution_count": 29,
   "id": "d28d29fe-dfaa-4195-8dc2-5c524312b7be",
   "metadata": {},
   "outputs": [
    {
     "data": {
      "text/plain": [
       "┌──────────────┐\n",
       "│ count_star() │\n",
       "│    int64     │\n",
       "├──────────────┤\n",
       "│       125226 │\n",
       "└──────────────┘"
      ]
     },
     "execution_count": 29,
     "metadata": {},
     "output_type": "execute_result"
    }
   ],
   "source": [
    "# How many rows does the orders table have?\n",
    "run_query(\"SELECT COUNT(*) FROM orders_data\")"
   ]
  },
  {
   "cell_type": "code",
   "execution_count": 30,
   "id": "82a42300-5224-4861-ab07-d1d05acd6ca7",
   "metadata": {},
   "outputs": [
    {
     "data": {
      "text/plain": [
       "┌──────────────┐\n",
       "│ count_star() │\n",
       "│    int64     │\n",
       "├──────────────┤\n",
       "│       125226 │\n",
       "└──────────────┘"
      ]
     },
     "execution_count": 30,
     "metadata": {},
     "output_type": "execute_result"
    }
   ],
   "source": [
    "# Does the data have duplicates?\n",
    "run_query(\"SELECT DISTINCT COUNT(*) FROM orders_data\")"
   ]
  },
  {
   "cell_type": "code",
   "execution_count": 31,
   "id": "16de772a-6b1a-45d1-82dc-ad3991caa2c8",
   "metadata": {},
   "outputs": [
    {
     "data": {
      "text/plain": [
       "┌──────────┬─────────┬───────────┬─────────┬─────────────────────┬─────────────┬────────────┬──────────────┬─────────────┐\n",
       "│ order_id │ user_id │  status   │ gender  │     created_at      │ returned_at │ shipped_at │ delivered_at │ num_of_item │\n",
       "│  int64   │  int64  │  varchar  │ boolean │      timestamp      │   varchar   │ timestamp  │  timestamp   │    int64    │\n",
       "├──────────┼─────────┼───────────┼─────────┼─────────────────────┼─────────────┼────────────┼──────────────┼─────────────┤\n",
       "│        8 │       5 │ Cancelled │ false   │ 2022-10-20 10:03:00 │ NULL        │ NULL       │ NULL         │           3 │\n",
       "│       60 │      44 │ Cancelled │ false   │ 2023-01-20 02:12:00 │ NULL        │ NULL       │ NULL         │           1 │\n",
       "│       64 │      46 │ Cancelled │ false   │ 2021-12-06 09:11:00 │ NULL        │ NULL       │ NULL         │           1 │\n",
       "│       89 │      65 │ Cancelled │ false   │ 2020-08-13 09:58:00 │ NULL        │ NULL       │ NULL         │           1 │\n",
       "│      102 │      76 │ Cancelled │ false   │ 2023-01-17 08:17:00 │ NULL        │ NULL       │ NULL         │           2 │\n",
       "└──────────┴─────────┴───────────┴─────────┴─────────────────────┴─────────────┴────────────┴──────────────┴─────────────┘"
      ]
     },
     "execution_count": 31,
     "metadata": {},
     "output_type": "execute_result"
    }
   ],
   "source": [
    "run_query(\"SELECT * FROM orders_data LIMIT 5\")"
   ]
  },
  {
   "cell_type": "code",
   "execution_count": 32,
   "id": "e9be506b-19e5-4591-ac6d-7bbdf3ccd5d5",
   "metadata": {},
   "outputs": [
    {
     "data": {
      "text/plain": [
       "┌────────────┐\n",
       "│   status   │\n",
       "│  varchar   │\n",
       "├────────────┤\n",
       "│ Returned   │\n",
       "│ Shipped    │\n",
       "│ Complete   │\n",
       "│ Processing │\n",
       "│ Cancelled  │\n",
       "└────────────┘"
      ]
     },
     "execution_count": 32,
     "metadata": {},
     "output_type": "execute_result"
    }
   ],
   "source": [
    "# What status can an order have?\n",
    "run_query(\"SELECT DISTINCT status from orders_data\")"
   ]
  },
  {
   "cell_type": "code",
   "execution_count": 33,
   "id": "f811c688-54b6-46dc-9240-9dea5311f6cf",
   "metadata": {},
   "outputs": [
    {
     "data": {
      "text/plain": [
       "┌─────────────────────┬────────────────────────────┐\n",
       "│     start_date      │          end_date          │\n",
       "│      timestamp      │         timestamp          │\n",
       "├─────────────────────┼────────────────────────────┤\n",
       "│ 2019-01-06 05:30:00 │ 2024-01-17 19:46:14.316147 │\n",
       "└─────────────────────┴────────────────────────────┘"
      ]
     },
     "execution_count": 33,
     "metadata": {},
     "output_type": "execute_result"
    }
   ],
   "source": [
    "# How what is the date range of the data?\n",
    "run_query(\"SELECT min(created_at) as start_date, max(created_at) as end_date FROM orders_data\")"
   ]
  },
  {
   "cell_type": "markdown",
   "id": "719cc5a5-cd30-46f9-a9c0-1452ebf750fd",
   "metadata": {},
   "source": [
    "## Order Items"
   ]
  },
  {
   "cell_type": "code",
   "execution_count": 34,
   "id": "72a3986f-67fa-4a3f-8476-fcdd7f52560b",
   "metadata": {},
   "outputs": [
    {
     "data": {
      "text/plain": [
       "┌──────────────┐\n",
       "│ count_star() │\n",
       "│    int64     │\n",
       "├──────────────┤\n",
       "│       181759 │\n",
       "└──────────────┘"
      ]
     },
     "execution_count": 34,
     "metadata": {},
     "output_type": "execute_result"
    }
   ],
   "source": [
    "# How many rows does the orders_items table have?\n",
    "run_query(\"SELECT COUNT(*) FROM order_items_data\")"
   ]
  },
  {
   "cell_type": "code",
   "execution_count": 35,
   "id": "d328e107-94ee-42df-9ba6-e62d2c3ca372",
   "metadata": {},
   "outputs": [
    {
     "data": {
      "text/plain": [
       "┌──────────────┐\n",
       "│ count_star() │\n",
       "│    int64     │\n",
       "├──────────────┤\n",
       "│       181759 │\n",
       "└──────────────┘"
      ]
     },
     "execution_count": 35,
     "metadata": {},
     "output_type": "execute_result"
    }
   ],
   "source": [
    "# Does the data have duplicates?\n",
    "run_query(\"SELECT DISTINCT COUNT(*) FROM order_items_data\")"
   ]
  },
  {
   "cell_type": "code",
   "execution_count": 36,
   "id": "e79f15f8-807f-4654-a860-15380b48c85e",
   "metadata": {},
   "outputs": [
    {
     "data": {
      "text/plain": [
       "┌────────┬──────────┬─────────┬────────────┬───────────────────┬───────────┬─────────────────────┬─────────────────────┬─────────────────────┬─────────────┬────────────────────┐\n",
       "│   id   │ order_id │ user_id │ product_id │ inventory_item_id │  status   │     created_at      │     shipped_at      │    delivered_at     │ returned_at │     sale_price     │\n",
       "│ int64  │  int64   │  int64  │   int64    │       int64       │  varchar  │      timestamp      │      timestamp      │      timestamp      │  timestamp  │       double       │\n",
       "├────────┼──────────┼─────────┼────────────┼───────────────────┼───────────┼─────────────────────┼─────────────────────┼─────────────────────┼─────────────┼────────────────────┤\n",
       "│ 152013 │   104663 │   83582 │      14235 │            410368 │ Cancelled │ 2023-05-07 06:08:40 │ NULL                │ NULL                │ NULL        │ 0.0199999995529651 │\n",
       "│  40993 │    28204 │   22551 │      14235 │            110590 │ Complete  │ 2023-03-14 03:47:21 │ 2023-03-15 22:57:00 │ 2023-03-18 01:08:00 │ NULL        │ 0.0199999995529651 │\n",
       "│  51224 │    35223 │   28215 │      14235 │            138236 │ Complete  │ 2023-12-05 13:25:30 │ 2023-12-06 01:20:00 │ 2023-12-10 10:04:00 │ NULL        │ 0.0199999995529651 │\n",
       "│  36717 │    25278 │   20165 │      14235 │             99072 │ Shipped   │ 2023-12-22 20:48:19 │ 2023-12-24 16:44:00 │ NULL                │ NULL        │ 0.0199999995529651 │\n",
       "│ 131061 │    90241 │   71954 │      14235 │            353798 │ Shipped   │ 2022-06-19 16:57:59 │ 2022-06-19 19:29:00 │ NULL                │ NULL        │ 0.0199999995529651 │\n",
       "└────────┴──────────┴─────────┴────────────┴───────────────────┴───────────┴─────────────────────┴─────────────────────┴─────────────────────┴─────────────┴────────────────────┘"
      ]
     },
     "execution_count": 36,
     "metadata": {},
     "output_type": "execute_result"
    }
   ],
   "source": [
    "run_query(\"SELECT * FROM order_items_data LIMIT 5\")"
   ]
  },
  {
   "cell_type": "code",
   "execution_count": 37,
   "id": "b71671ee-3953-4123-ac6f-b44b8c58939d",
   "metadata": {},
   "outputs": [
    {
     "data": {
      "text/plain": [
       "┌──────────┬────────────────┐\n",
       "│ order_id │ count_products │\n",
       "│  int64   │     int64      │\n",
       "├──────────┼────────────────┤\n",
       "│     3282 │              4 │\n",
       "│    68394 │              4 │\n",
       "│    87910 │              4 │\n",
       "│   123379 │              4 │\n",
       "│    18628 │              4 │\n",
       "│    33082 │              4 │\n",
       "│   120467 │              4 │\n",
       "│    89872 │              4 │\n",
       "│    81031 │              4 │\n",
       "│    43709 │              4 │\n",
       "│      ·   │              · │\n",
       "│      ·   │              · │\n",
       "│      ·   │              · │\n",
       "│    86268 │              3 │\n",
       "│    19330 │              3 │\n",
       "│   112194 │              3 │\n",
       "│    17088 │              3 │\n",
       "│    53631 │              3 │\n",
       "│   108510 │              3 │\n",
       "│   118199 │              3 │\n",
       "│     5752 │              3 │\n",
       "│    56501 │              3 │\n",
       "│    59287 │              3 │\n",
       "├──────────┴────────────────┤\n",
       "│ ? rows          2 columns │\n",
       "└───────────────────────────┘"
      ]
     },
     "execution_count": 37,
     "metadata": {},
     "output_type": "execute_result"
    }
   ],
   "source": [
    "# Can 1 order have multiple product items? \n",
    "run_query(\"SELECT order_id, COUNT(DISTINCT product_id) as count_products FROM order_items_data GROUP BY order_id ORDER BY count_products DESC\")"
   ]
  },
  {
   "cell_type": "code",
   "execution_count": 38,
   "id": "11fc1634-2edd-455c-b9d9-8b3c8794a63a",
   "metadata": {},
   "outputs": [
    {
     "data": {
      "text/plain": [
       "┌──────────────┐\n",
       "│ count_orders │\n",
       "│    int64     │\n",
       "├──────────────┤\n",
       "│       125226 │\n",
       "└──────────────┘"
      ]
     },
     "execution_count": 38,
     "metadata": {},
     "output_type": "execute_result"
    }
   ],
   "source": [
    "# How many distinct orders are there? \n",
    "run_query(\"SELECT COUNT(DISTINCT order_id) as count_orders FROM order_items_data\")\n",
    "# That's the same number of orders as the orders table"
   ]
  },
  {
   "cell_type": "code",
   "execution_count": 39,
   "id": "d59566ac-8136-476a-8d9a-2ab05bf1e8c3",
   "metadata": {},
   "outputs": [
    {
     "data": {
      "text/plain": [
       "┌──────────────────────────┐\n",
       "│ count(inventory_item_id) │\n",
       "│          int64           │\n",
       "├──────────────────────────┤\n",
       "│                   181759 │\n",
       "└──────────────────────────┘"
      ]
     },
     "execution_count": 39,
     "metadata": {},
     "output_type": "execute_result"
    }
   ],
   "source": [
    "# Are all order items accounted for in the investory table?\n",
    "run_query(\"SELECT COUNT(inventory_item_id) FROM order_items_data WHERE inventory_item_id in (SELECT id FROM inventory_items_data)\")"
   ]
  },
  {
   "cell_type": "markdown",
   "id": "0b8e2934-86de-4db3-9d58-682d2b08f634",
   "metadata": {},
   "source": [
    "## Products"
   ]
  },
  {
   "cell_type": "code",
   "execution_count": 40,
   "id": "35c24960-42c3-473b-9a4d-d98c5ccf62f7",
   "metadata": {},
   "outputs": [
    {
     "data": {
      "text/plain": [
       "┌──────────────┐\n",
       "│ count_star() │\n",
       "│    int64     │\n",
       "├──────────────┤\n",
       "│        29120 │\n",
       "└──────────────┘"
      ]
     },
     "execution_count": 40,
     "metadata": {},
     "output_type": "execute_result"
    }
   ],
   "source": [
    "# How many rows does the products table have?\n",
    "run_query(\"SELECT COUNT(*) FROM products_data\")"
   ]
  },
  {
   "cell_type": "code",
   "execution_count": 41,
   "id": "56065fa0-0113-4a95-af2d-3ed0c8317a5d",
   "metadata": {},
   "outputs": [
    {
     "data": {
      "text/plain": [
       "┌──────────────┐\n",
       "│ count_star() │\n",
       "│    int64     │\n",
       "├──────────────┤\n",
       "│        29120 │\n",
       "└──────────────┘"
      ]
     },
     "execution_count": 41,
     "metadata": {},
     "output_type": "execute_result"
    }
   ],
   "source": [
    "# Are there duplicates in the product data? \n",
    "run_query(\"SELECT DISTINCT COUNT(*) FROM products_data\")"
   ]
  },
  {
   "cell_type": "code",
   "execution_count": 42,
   "id": "0aa78657-2728-4204-90f8-dc419241d6b2",
   "metadata": {},
   "outputs": [
    {
     "data": {
      "text/plain": [
       "┌───────┬────────────────────┬─────────────┬─────────────────────────────────────────────────────────┬─────────┬────────────────────┬────────────┬──────────────────────────────────┬────────────────────────┐\n",
       "│  id   │        cost        │  category   │                          name                           │  brand  │    retail_price    │ department │               sku                │ distribution_center_id │\n",
       "│ int64 │       double       │   varchar   │                         varchar                         │ varchar │       double       │  varchar   │             varchar              │         int64          │\n",
       "├───────┼────────────────────┼─────────────┼─────────────────────────────────────────────────────────┼─────────┼────────────────────┼────────────┼──────────────────────────────────┼────────────────────────┤\n",
       "│ 13842 │  2.518749990849756 │ Accessories │ Low Profile Dyed Cotton Twill Cap - Navy W39S55D        │ MG      │               6.25 │ Women      │ EBD58B8A3F1D72F4206201DA62FB1204 │                      1 │\n",
       "│ 13928 │ 2.3383499148894105 │ Accessories │ Low Profile Dyed Cotton Twill Cap - Putty W39S55D       │ MG      │  5.949999809265137 │ Women      │ 2EAC42424D12436BDD6A5B8A88480CC3 │                      1 │\n",
       "│ 14115 │  4.879559879379869 │ Accessories │ Enzyme Regular Solid Army Caps-Black W35S45D            │ MG      │ 10.989999771118164 │ Women      │ EE364229B2791D1EF9355708EFF0BA34 │                      1 │\n",
       "│ 14157 │  4.648769887297898 │ Accessories │ Enzyme Regular Solid Army Caps-Olive W35S45D (One Size) │ MG      │ 10.989999771118164 │ Women      │ 00BD13095D06C20B11A2993CA419D16B │                      1 │\n",
       "│ 14273 │  6.507929886473045 │ Accessories │ Washed Canvas Ivy Cap - Black W11S64C                   │ MG      │ 15.989999771118164 │ Women      │ F531DC20FDE20B7ADF3A73F52B71D0AF │                      1 │\n",
       "└───────┴────────────────────┴─────────────┴─────────────────────────────────────────────────────────┴─────────┴────────────────────┴────────────┴──────────────────────────────────┴────────────────────────┘"
      ]
     },
     "execution_count": 42,
     "metadata": {},
     "output_type": "execute_result"
    }
   ],
   "source": [
    "run_query(\"SELECT * FROM products_data LIMIT 5\")"
   ]
  },
  {
   "cell_type": "code",
   "execution_count": 43,
   "id": "c65fbbf3-71d9-4bcc-8372-4b51dc776be1",
   "metadata": {},
   "outputs": [
    {
     "data": {
      "text/plain": [
       "┌───────────────────────────────┐\n",
       "│           category            │\n",
       "│            varchar            │\n",
       "├───────────────────────────────┤\n",
       "│ Accessories                   │\n",
       "│ Dresses                       │\n",
       "│ Suits                         │\n",
       "│ Jeans                         │\n",
       "│ Leggings                      │\n",
       "│ Underwear                     │\n",
       "│ Active                        │\n",
       "│ Fashion Hoodies & Sweatshirts │\n",
       "│ Suits & Sport Coats           │\n",
       "│ Pants                         │\n",
       "│   ·                           │\n",
       "│   ·                           │\n",
       "│   ·                           │\n",
       "│ Skirts                        │\n",
       "│ Outerwear & Coats             │\n",
       "│ Sweaters                      │\n",
       "│ Shorts                        │\n",
       "│ Intimates                     │\n",
       "│ Socks                         │\n",
       "│ Tops & Tees                   │\n",
       "│ Maternity                     │\n",
       "│ Sleep & Lounge                │\n",
       "│ Clothing Sets                 │\n",
       "├───────────────────────────────┤\n",
       "│      26 rows (20 shown)       │\n",
       "└───────────────────────────────┘"
      ]
     },
     "execution_count": 43,
     "metadata": {},
     "output_type": "execute_result"
    }
   ],
   "source": [
    "# How many product categories are there?\n",
    "run_query(\"SELECT DISTINCT category FROM products_data\")"
   ]
  },
  {
   "cell_type": "markdown",
   "id": "b0b12e69-e431-4e8e-81d6-49d0cc83bfd2",
   "metadata": {},
   "source": [
    "## Users"
   ]
  },
  {
   "cell_type": "code",
   "execution_count": 44,
   "id": "f633fd3f-42eb-4382-8527-08d11168d264",
   "metadata": {},
   "outputs": [
    {
     "data": {
      "text/plain": [
       "┌────────────────┬─────────────┐\n",
       "│    country     │ count_users │\n",
       "│    varchar     │    int64    │\n",
       "├────────────────┼─────────────┤\n",
       "│ Deutschland    │           2 │\n",
       "│ Austria        │           2 │\n",
       "│ España         │           2 │\n",
       "│ Colombia       │          17 │\n",
       "│ Poland         │         235 │\n",
       "│ Belgium        │        1185 │\n",
       "│ Australia      │        2146 │\n",
       "│ Japan          │        2438 │\n",
       "│ Spain          │        4062 │\n",
       "│ Germany        │        4155 │\n",
       "│ United Kingdom │        4561 │\n",
       "│ France         │        4700 │\n",
       "│ South Korea    │        5316 │\n",
       "│ Brasil         │       14507 │\n",
       "│ United States  │       22522 │\n",
       "│ China          │       34150 │\n",
       "├────────────────┴─────────────┤\n",
       "│ 16 rows            2 columns │\n",
       "└──────────────────────────────┘"
      ]
     },
     "execution_count": 44,
     "metadata": {},
     "output_type": "execute_result"
    }
   ],
   "source": [
    "# What countries are in the dataset? \n",
    "run_query(\"SELECT DISTINCT country, COUNT(id) as count_users FROM users_data GROUP BY 1 ORDER BY count_users\")"
   ]
  }
 ],
 "metadata": {
  "kernelspec": {
   "display_name": "Python 3 (ipykernel)",
   "language": "python",
   "name": "python3"
  },
  "language_info": {
   "codemirror_mode": {
    "name": "ipython",
    "version": 3
   },
   "file_extension": ".py",
   "mimetype": "text/x-python",
   "name": "python",
   "nbconvert_exporter": "python",
   "pygments_lexer": "ipython3",
   "version": "3.12.3"
  }
 },
 "nbformat": 4,
 "nbformat_minor": 5
}
